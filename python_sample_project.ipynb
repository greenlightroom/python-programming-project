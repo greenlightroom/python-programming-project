{
 "cells": [
  {
   "cell_type": "markdown",
   "id": "2a8b76ff",
   "metadata": {},
   "source": [
    "## Project 1"
   ]
  },
  {
   "cell_type": "markdown",
   "id": "709301c2",
   "metadata": {},
   "source": [
    "Counting the number of the leap years"
   ]
  },
  {
   "cell_type": "code",
   "execution_count": 5,
   "id": "f727b849",
   "metadata": {},
   "outputs": [
    {
     "name": "stdout",
     "output_type": "stream",
     "text": [
      "Enter the starting year : 1600\n",
      "Year Start from :  1600\n",
      "Input the ending year : 2020\n",
      "Year end to : 2020\n",
      "The number of the leap years from 1600 until 2020 is 102\n"
     ]
    }
   ],
   "source": [
    "year = [] #creating an empty list\n",
    "start = input(\"Enter the starting year : \")\n",
    "print(\"Year Start from : \",start)\n",
    "end = input(\"Input the ending year : \")\n",
    "print(\"Year end to :\",end)\n",
    "year_leap = []\n",
    "for i in range (int(start), int(end)): #looping with year input to variable start as starting value and it will be stop at \n",
    "    year.append(i) #put years into year list\n",
    "for i in range(len(year)):\n",
    "    if (year[i] % 4 == 0) and (year[i] % 100 != 0): #first condition checking whether the year is leap year or not\n",
    "        year_leap.append(year[i])  #if the condition fullfied then the year will written in the year_leap list\n",
    "        #second condition checking whether the year is leap year or not\n",
    "    elif (year[i] % 400 == 0) and (year[i] % 100 == 0):\n",
    "        year_leap.append(year[i]) #if the condition fullfied then the year will written in the year_leap list\n",
    "print(\"The number of the leap years from 1600 until\",int(end),\"is\",len(year_leap))"
   ]
  },
  {
   "cell_type": "markdown",
   "id": "e5af150b",
   "metadata": {},
   "source": [
    "## Project 2"
   ]
  },
  {
   "cell_type": "markdown",
   "id": "1d79ddea",
   "metadata": {},
   "source": [
    "Sorting a list using Bubble sort algorithm"
   ]
  },
  {
   "cell_type": "code",
   "execution_count": 8,
   "id": "f038afb5",
   "metadata": {},
   "outputs": [
    {
     "name": "stdout",
     "output_type": "stream",
     "text": [
      "the numbers in the list \n",
      " [89, 85, 81, 64, 63, 62, 59, 58, 43, 42, 38, 34, 33, 31, 26, 26, 24, 24, 16, 16]\n",
      "the sorted list : \n",
      " [89, 85, 81, 64, 63, 62, 59, 58, 43, 42, 38, 34, 33, 31, 26, 26, 24, 24, 16, 16]\n",
      "the average of the list :  45.7\n",
      "The number of even-numbers is : 12\n",
      "the largest element of the list : 89\n",
      "the smallest element of the list : 16\n",
      "the second largest element of the list : 85\n",
      "the second smallest element of the list : 16\n"
     ]
    }
   ],
   "source": [
    "import random\n",
    "\n",
    "num = []\n",
    "#create 20 random numbers start from 1 to 100\n",
    "random.seed(18)\n",
    "for i in range(20):\n",
    "    num.append(random.randint(1,100))\n",
    "    \n",
    "#sorting process which use bubble sort algorithm\n",
    "#the algorithm works by checking the number beside the current number\n",
    "num_sorted = num\n",
    "for i in range(len(num_sorted)-1):\n",
    "    for j in range(0, len(num_sorted)-1):\n",
    "        if num_sorted[j] < num_sorted[j + 1] :\n",
    "            num_sorted[j], num_sorted[j + 1] = num_sorted[j + 1], num_sorted[j] #if the number is smaller then it will change its position\n",
    "    \n",
    "even_num = [] #create an empty list for even numbers\n",
    "    \n",
    "for i in range(len(num)):\n",
    "    if num[i]%2 == 0: #to check whether the number is even or not, we calculate using modulo, if the modulo of the number equal to 0 then the number is an even number\n",
    "        even_num.append(num[i])\n",
    "    \n",
    "print(\"the numbers in the list \\n\", num) #print the original list\n",
    "print(\"the sorted list : \\n\", num_sorted) #print the sorted list\n",
    "print(\"the average of the list : \",sum(num)/len(num)) #calculate the average of the list\n",
    "print(\"The number of even-numbers is :\", len(even_num)) #print the sum of even numbers\n",
    "print(\"the largest element of the list :\", num_sorted[0]) #print the largest number of the list\n",
    "print(\"the smallest element of the list :\", num_sorted[-1]) #print the smallest number of the list\n",
    "print(\"the second largest element of the list :\", num_sorted[1]) #print the second largest number of the list\n",
    "print(\"the second smallest element of the list :\", num_sorted[18]) #print the second smallest number of the list"
   ]
  },
  {
   "cell_type": "markdown",
   "id": "a788068e",
   "metadata": {},
   "source": [
    "## Project 3"
   ]
  },
  {
   "cell_type": "markdown",
   "id": "20bc805b",
   "metadata": {},
   "source": [
    "Fibonacci Numbers"
   ]
  },
  {
   "cell_type": "code",
   "execution_count": 14,
   "id": "7b86007a",
   "metadata": {},
   "outputs": [
    {
     "name": "stdout",
     "output_type": "stream",
     "text": [
      "Input n : 10\n",
      "10\n",
      "1 1 2 3 5 8 13 21 34 55 "
     ]
    }
   ],
   "source": [
    "n = int(input(\"Input n : \"))\n",
    "print(n)\n",
    "def fibonacci(n):\n",
    "    # taking first two fibonacci numbers as 1 and 1\n",
    "    f = [1, 1]\n",
    "    #ss the first two fixed values of the Fibonacci series are both 1\n",
    "    #then we start our loop from the second index, in the loop we try to append the values using the previous two numbers.\n",
    "    for i in range(2, n+1):\n",
    "        f.append(f[i-1] + f[i-2])\n",
    "    return f\n",
    "ans=fibonacci(n)\n",
    "for n in range(0, n):\n",
    "    print(ans[n], end = ' ')"
   ]
  },
  {
   "cell_type": "code",
   "execution_count": null,
   "id": "0b066292",
   "metadata": {},
   "outputs": [],
   "source": []
  }
 ],
 "metadata": {
  "kernelspec": {
   "display_name": "Python 3 (ipykernel)",
   "language": "python",
   "name": "python3"
  },
  "language_info": {
   "codemirror_mode": {
    "name": "ipython",
    "version": 3
   },
   "file_extension": ".py",
   "mimetype": "text/x-python",
   "name": "python",
   "nbconvert_exporter": "python",
   "pygments_lexer": "ipython3",
   "version": "3.9.12"
  }
 },
 "nbformat": 4,
 "nbformat_minor": 5
}
